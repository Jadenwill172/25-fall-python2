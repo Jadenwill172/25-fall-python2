{
 "cells": [
  {
   "cell_type": "markdown",
   "id": "d39ed571",
   "metadata": {},
   "source": [
    "# Evolution Algorithms Pseudocode\n",
    "Make a function that takes the capacity of the total number\n",
    "\n",
    "set it to zero so it is reset everytime.\n",
    "\n",
    "    repeat the process until there aren't improvements\n",
    "\n",
    "    make the new best the new number\n",
    "\n",
    "    FOR each number of offspring in the generation\n",
    "    \n",
    "        If the number is higher than the current number, set it to the current number"
   ]
  },
  {
   "cell_type": "code",
   "execution_count": 6,
   "id": "7e0dd966",
   "metadata": {},
   "outputs": [
    {
     "name": "stdout",
     "output_type": "stream",
     "text": [
      "Best knapsack (indices): [88, 83, 35, 27, 79, 23, 60, 32, 2, 16, 75, 56, 51, 40, 64, 41, 82, 47, 20, 46, 52, 72, 37, 48, 55, 18, 98, 99, 21, 91]\n",
      "Total weight: 300\n",
      "Total value: 1248\n"
     ]
    }
   ],
   "source": [
    "import random\n",
    "\n",
    "items = [\n",
    "(11, 4),(7, 1),(18, 48),(18, 19),(5, 2),(7, 30),(20, 7),(15, 30),\n",
    "(5, 6),(18, 12),(17, 8),(11, 3),(20, 12),(3, 23),(10, 33),(3, 22),\n",
    "(3, 48),(2, 23),(18, 36),(7, 9),(7, 40),(1, 30),(9, 30),(11, 49),\n",
    "(19, 27),(17, 4),(10, 29),(17, 48),(5, 31),(6, 17),(3, 23),(7, 6),\n",
    "(12, 44),(4, 5),(7, 15),(9, 50),(9, 11),(5, 38),(16, 8),(9, 8),\n",
    "(16, 42),(20, 40),(3, 13),(3, 12),(18, 28),(17, 17),(9, 39),(16, 39),\n",
    "(13, 37),(8, 11),(4, 15),(8, 47),(10, 39),(5, 34),(9, 12),(18, 37),\n",
    "(9, 43),(18, 8),(12, 14),(17, 3),(9, 49),(6, 27),(1, 28),(17, 32),\n",
    "(20, 41),(9, 8),(20, 14),(10, 30),(4, 26),(3, 4),(3, 29),(13, 36),\n",
    "(6, 37),(10, 2),(17, 15),(2, 46),(4, 31),(4, 31),(11, 33),(13, 49),\n",
    "(5, 35),(1, 17),(5, 40),(6, 50),(4, 18),(20, 9),(9, 5),(10, 13),\n",
    "(10, 50),(13, 24),(9, 29),(1, 30),(20, 16),(11, 3),(18, 25),(13, 32),\n",
    "(16, 22),(11, 3),(7, 35),(1, 27)\n",
    "]\n",
    "def total_weight(knapsack):\n",
    "    return sum(items[i][0] for i in knapsack)\n",
    "def total_value(knapsack):\n",
    "    return sum(items[i][1] for i in knapsack)\n",
    "def mutate(knapsack, capacity):\n",
    "    \"\"\"Randomly add a new item and remove others if necessary to stay within capacity.\"\"\"\n",
    "    offspring = knapsack.copy()\n",
    "    n_items = len(items) \n",
    "    available = [i for i in range(n_items) if i not in offspring]\n",
    "    if not available:\n",
    "        return offspring\n",
    "    new_item = random.choice(available)\n",
    "    while total_weight(offspring) + items[new_item][0] > capacity and offspring:\n",
    "        offspring.remove(random.choice(offspring))\n",
    "    if total_weight(offspring) + items[new_item][0] <= capacity:\n",
    "        offspring.append(new_item)\n",
    "    return offspring\n",
    "def knapsack(capacity, generations=1000, offspring_count=100):\n",
    "    \"\"\"Evolve a near-optimal knapsack configuration.\"\"\"\n",
    "    best_knapsack = []\n",
    "    best_value = 0\n",
    "    same_best_count = 0  \n",
    "    for gen in range(generations):\n",
    "        generation_best = best_knapsack\n",
    "        generation_best_value = best_value\n",
    "        for _ in range(offspring_count):\n",
    "            child = mutate(best_knapsack, capacity)\n",
    "            w = total_weight(child)\n",
    "            v = total_value(child)\n",
    "            if w <= capacity and v > generation_best_value:\n",
    "                generation_best = child\n",
    "                generation_best_value = v\n",
    "        if generation_best_value == best_value:\n",
    "            same_best_count += 1\n",
    "        else:\n",
    "            same_best_count = 0\n",
    "            best_knapsack = generation_best\n",
    "            best_value = generation_best_value\n",
    "        if same_best_count >= 2:\n",
    "            break\n",
    "    return best_knapsack\n",
    "best = knapsack(300)\n",
    "print(\"Best knapsack (indices):\", best)\n",
    "print(\"Total weight:\", total_weight(best))\n",
    "print(\"Total value:\", total_value(best))"
   ]
  },
  {
   "cell_type": "code",
   "execution_count": 7,
   "id": "7dbd8582",
   "metadata": {},
   "outputs": [],
   "source": [
    "def evolutionary_algorithm(initial_solution, mutate_func, fitness_func, termination_condition):\n",
    "    current_solution = initial_solution\n",
    "    generations_without_improvement = 0\n",
    "    best_fitness = fitness_func(current_solution)\n",
    "    while not termination_condition(generations_without_improvement):\n",
    "        offspring_set = [mutate_func(current_solution) for _ in range(100)]\n",
    "        offspring_set = [o for o in offspring_set if fitness_func(o) is not None]\n",
    "        offspring_fitnesses = [fitness_func(o) for o in offspring_set]\n",
    "        max_fitness = max(offspring_fitnesses)\n",
    "        best_offspring = offspring_set[offspring_fitnesses.index(max_fitness)]\n",
    "        if max_fitness > best_fitness:\n",
    "            current_solution = best_offspring\n",
    "            best_fitness = max_fitness\n",
    "            generations_without_improvement = 0\n",
    "        else:\n",
    "            generations_without_improvement += 1\n",
    "    return current_solution"
   ]
  }
 ],
 "metadata": {
  "kernelspec": {
   "display_name": "Python 3",
   "language": "python",
   "name": "python3"
  },
  "language_info": {
   "codemirror_mode": {
    "name": "ipython",
    "version": 3
   },
   "file_extension": ".py",
   "mimetype": "text/x-python",
   "name": "python",
   "nbconvert_exporter": "python",
   "pygments_lexer": "ipython3",
   "version": "3.12.1"
  }
 },
 "nbformat": 4,
 "nbformat_minor": 5
}
