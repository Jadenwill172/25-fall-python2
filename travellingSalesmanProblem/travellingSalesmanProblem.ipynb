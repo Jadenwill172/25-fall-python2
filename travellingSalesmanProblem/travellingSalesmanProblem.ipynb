{
 "cells": [
  {
   "cell_type": "markdown",
   "id": "2a8a80d4",
   "metadata": {},
   "source": [
    "# Greedy Pseudocode \n",
    "\n",
    "choose a starting point within the dataset and make it the current number.\n",
    "\n",
    "FOR each number\n",
    "\n",
    "    make sure that you are not using repeat numbers.\n",
    "\n",
    "    find the smallest number and make it the current number.\n",
    "\n",
    "repeat this process until you have included every number."
   ]
  },
  {
   "cell_type": "markdown",
   "id": "511a2795",
   "metadata": {},
   "source": [
    "# Evolutionary Pseudocode\n",
    "\n"
   ]
  }
 ],
 "metadata": {
  "language_info": {
   "name": "python"
  }
 },
 "nbformat": 4,
 "nbformat_minor": 5
}
