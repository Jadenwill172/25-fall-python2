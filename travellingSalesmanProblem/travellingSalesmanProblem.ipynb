{
 "cells": [
  {
   "cell_type": "markdown",
   "id": "2a8a80d4",
   "metadata": {},
   "source": [
    "# Greedy Pseudocode \n",
    "\n",
    "choose a starting point within the dataset and make it the current number.\n",
    "\n",
    "FOR each number\n",
    "\n",
    "    make sure that you are not using repeat numbers.\n",
    "\n",
    "    find the smallest number and make it the current number.\n",
    "\n",
    "repeat this process until you have included every number."
   ]
  },
  {
   "cell_type": "markdown",
   "id": "511a2795",
   "metadata": {},
   "source": [
    "# Evolutionary Pseudocode\n",
    "\n",
    "take a dataset and pick a random number and remove that number out of the array.\n",
    "\n",
    "Add the removed number to a new set that shows direction you are travelling.\n",
    "\n",
    "Then select another random number from that set and remove it as well.\n",
    "\n",
    "continue this process until there is no more elements in the array.\n",
    "\n",
    "add up the distance to get a new solution.\n",
    "\n",
    "make a small random change to the dataset and see if the new solution is better.\n",
    "\n",
    "If it is better set it to as the new best.\n",
    "\n",
    "continue to do this until the new numbers are not better than current best."
   ]
  },
  {
   "cell_type": "code",
   "execution_count": null,
   "id": "9953f49b",
   "metadata": {},
   "outputs": [],
   "source": [
    "def tsp_greedy(name_file, distance_file):\n",
    "    # --- Step 1: Read city names ---\n",
    "    with open(name_file, 'r') as f:\n",
    "        city_names = [line.strip() for line in f.readlines()]\n",
    "    \n",
    "    n = len(city_names)\n",
    "    \n",
    "    # --- Step 2: Read distance matrix ---\n",
    "    distances = []\n",
    "    with open(distance_file, 'r') as f:\n",
    "        for line in f:\n",
    "            row = [float(x) for x in line.split()]\n",
    "            distances.append(row)\n",
    "    \n",
    "    # --- Helper: Calculate total route distance ---\n",
    "    def route_distance(route):\n",
    "        total = 0\n",
    "        for i in range(len(route) - 1):\n",
    "            total += distances[route[i]][route[i+1]]\n",
    "        total += distances[route[-1]][route[0]]  # Return to start\n",
    "        return total\n",
    "\n",
    "    # --- Step 3: Greedy algorithm from each starting city ---\n",
    "    best_route = None\n",
    "    best_distance = float('inf')\n",
    "\n",
    "    for start_city in range(n):\n",
    "        unvisited = set(range(n))\n",
    "        route = [start_city]\n",
    "        unvisited.remove(start_city)\n",
    "        current = start_city\n",
    "\n",
    "        # Build route greedily\n",
    "        while unvisited:\n",
    "            # Choose the nearest unvisited city\n",
    "            next_city = min(unvisited, key=lambda city: distances[current][city])\n",
    "            route.append(next_city)\n",
    "            unvisited.remove(next_city)\n",
    "            current = next_city\n",
    "\n",
    "        # Compute total distance for this route\n",
    "        total_dist = route_distance(route)\n",
    "\n",
    "        # Keep the best one\n",
    "        if total_dist < best_distance:\n",
    "            best_distance = total_dist\n",
    "            best_route = route\n",
    "\n",
    "    # --- Step 4: Print best result ---\n",
    "    route_names = [city_names[i] for i in best_route]\n",
    "    print(\"Best greedy route:\", \" -> \".join(route_names + [route_names[0]]))\n",
    "    print(f\"Total distance: {best_distance:.2f}\")"
   ]
  }
 ],
 "metadata": {
  "kernelspec": {
   "display_name": "Python 3",
   "language": "python",
   "name": "python3"
  },
  "language_info": {
   "codemirror_mode": {
    "name": "ipython",
    "version": 3
   },
   "file_extension": ".py",
   "mimetype": "text/x-python",
   "name": "python",
   "nbconvert_exporter": "python",
   "pygments_lexer": "ipython3",
   "version": "3.12.1"
  }
 },
 "nbformat": 4,
 "nbformat_minor": 5
}
