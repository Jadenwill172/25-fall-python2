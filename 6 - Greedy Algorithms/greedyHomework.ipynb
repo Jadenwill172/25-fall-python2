{
 "cells": [
  {
   "cell_type": "code",
   "execution_count": 1,
   "id": "940511bc",
   "metadata": {},
   "outputs": [],
   "source": [
    "def overlap(s1: str, s2: str) -> int:\n",
    "    max_len = min(len(s1), len(s2))\n",
    "    for length in range(max_len, 0, -1):\n",
    "        if s1[-length:] == s2[:length]:\n",
    "            return length\n",
    "    return 0\n",
    "\n",
    "def merge_strings(s1: str, s2: str, overlap_len: int) -> str:\n",
    "    return s1 + s2[overlap_len:]\n",
    "\n",
    "def shortest_superstring(strings: set) -> str:\n",
    "    strings = list(strings)\n",
    "    \n",
    "    # Helper function to build triples list\n",
    "    def build_triples(strings_list):\n",
    "        triples = []\n",
    "        for i in range(len(strings_list)):\n",
    "            for j in range(len(strings_list)):\n",
    "                if i != j:\n",
    "                    o = overlap(strings_list[i], strings_list[j])\n",
    "                    if o > 0:\n",
    "                        triples.append((strings_list[i], strings_list[j], o))\n",
    "        return triples\n",
    "\n",
    "    triples = build_triples(strings)\n",
    "\n",
    "    while len(strings) > 1:\n",
    "        if not triples:\n",
    "            # No overlaps left: merge first two strings arbitrarily\n",
    "            s1 = strings.pop(0)\n",
    "            s2 = strings.pop(0)\n",
    "            merged = s1 + s2\n",
    "            strings.append(merged)\n",
    "        else:\n",
    "            # Pick pair with max overlap\n",
    "            triples.sort(key=lambda x: x[2], reverse=True)\n",
    "            s1, s2, ov = triples[0]\n",
    "            merged = merge_strings(s1, s2, ov)\n",
    "            \n",
    "            # Remove s1 and s2 from strings\n",
    "            strings.remove(s1)\n",
    "            strings.remove(s2)\n",
    "            strings.append(merged)\n",
    "\n",
    "        # Rebuild triples with updated strings\n",
    "        triples = build_triples(strings)\n",
    "\n",
    "    return strings[0]"
   ]
  },
  {
   "cell_type": "code",
   "execution_count": 2,
   "id": "da41a632",
   "metadata": {},
   "outputs": [
    {
     "name": "stdout",
     "output_type": "stream",
     "text": [
      "ABCDEFXCDEFYZ\n",
      "UVWXYZ\n"
     ]
    }
   ],
   "source": [
    "print(shortest_superstring({'ABCDEF', 'BCDEFX', 'XCDEFY', 'DEFYZ'}))\n",
    "# Expected: 'ABCDEFXCDEFYZ'\n",
    "\n",
    "print(shortest_superstring({'UV', 'VW', 'XY', 'YZ'}))\n",
    "# Expected: 'UVWXYZ' or 'XYZUVW'"
   ]
  },
  {
   "cell_type": "code",
   "execution_count": 4,
   "id": "21c0186d",
   "metadata": {},
   "outputs": [
    {
     "name": "stdout",
     "output_type": "stream",
     "text": [
      "gctaagttcatgcatc\n"
     ]
    }
   ],
   "source": [
    "print(shortest_superstring({\"catgc\", \"ctaagt\", \"gcta\", \"ttca\", \"atgcatc\"}))"
   ]
  }
 ],
 "metadata": {
  "kernelspec": {
   "display_name": "Python 3",
   "language": "python",
   "name": "python3"
  },
  "language_info": {
   "codemirror_mode": {
    "name": "ipython",
    "version": 3
   },
   "file_extension": ".py",
   "mimetype": "text/x-python",
   "name": "python",
   "nbconvert_exporter": "python",
   "pygments_lexer": "ipython3",
   "version": "3.12.1"
  }
 },
 "nbformat": 4,
 "nbformat_minor": 5
}
