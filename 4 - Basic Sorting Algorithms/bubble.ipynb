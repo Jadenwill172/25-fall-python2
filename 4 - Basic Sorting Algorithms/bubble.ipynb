{
 "cells": [
  {
   "cell_type": "code",
   "execution_count": null,
   "metadata": {},
   "outputs": [],
   "source": [
    "def improved_bubble_sort(arr, asc=True):\n",
    "    \"\"\"\n",
    "    :param arr: list of integers\n",
    "    :param asc: optional flag to sort in ascending order if True and descending if False\n",
    "    :return: sorts the entries of arr in ascending/descending order according to flag\n",
    "    \"\"\"\n",
    "    length = len(arr)\n",
    "    for i in range(length - 1):\n",
    "        swapped = False\n",
    "        for j in range(length - 1 - i):\n",
    "            if (asc and arr[j] > arr[j + 1]) or (not asc and arr[j] < arr[j + 1]):\n",
    "                arr[j], arr[j + 1] = arr[j + 1], arr[j]\n",
    "                swapped = True\n",
    "        if not swapped:\n",
    "            break\n",
    "\n",
    "\n",
    "def insertion_sort(arr, asc=True):\n",
    "    \"\"\"\n",
    "    :param arr: list of integers\n",
    "    :param asc: optional flag to sort in ascending order if True and descending if False\n",
    "    :return: sorts the entries of arr in ascending/descending order according to flag\n",
    "    \"\"\"\n",
    "    for i in range(1, len(arr)):\n",
    "        key = arr[i]\n",
    "        j = i - 1\n",
    "        while j >= 0 and ((asc and arr[j] > key) or (not asc and arr[j] < key)):\n",
    "            arr[j + 1] = arr[j]\n",
    "            j -= 1\n",
    "        arr[j + 1] = key\n",
    "\n",
    "\n",
    "def selection_sort(arr, asc=True):\n",
    "    \"\"\"\n",
    "    :param arr: list of integers\n",
    "    :param asc: optional flag to sort in ascending order if True and descending if False\n",
    "    :return: sorts the entries of arr in ascending/descending order according to flag\n",
    "    \"\"\"\n",
    "    length = len(arr)\n",
    "    for i in range(length):\n",
    "        selected_index = i\n",
    "        for j in range(i + 1, length):\n",
    "            if (asc and arr[j] < arr[selected_index]) or (not asc and arr[j] > arr[selected_index]):\n",
    "                selected_index = j\n",
    "        arr[i], arr[selected_index] = arr[selected_index], arr[i]"
   ]
  },
  {
   "cell_type": "code",
   "execution_count": 8,
   "metadata": {},
   "outputs": [
    {
     "name": "stdout",
     "output_type": "stream",
     "text": [
      "Insertion Sort (asc): [1, 2, 3, 4, 5]\n",
      "Selection Sort (desc): [5, 4, 3, 2, 1]\n",
      "Improved Bubble Sort (asc): [1, 2, 3, 4, 5]\n"
     ]
    }
   ],
   "source": [
    "test_list = [5, 3, 4, 2, 1]\n",
    "insertion_sort(test_list)\n",
    "print(\"Insertion Sort (asc):\", test_list)\n",
    "\n",
    "test_list = [5, 3, 4, 2, 1]\n",
    "selection_sort(test_list, False)\n",
    "print(\"Selection Sort (desc):\", test_list)\n",
    "\n",
    "test_list = [5, 3, 4, 2, 1]\n",
    "improved_bubble_sort(test_list)\n",
    "print(\"Improved Bubble Sort (asc):\", test_list)"
   ]
  }
 ],
 "metadata": {
  "kernelspec": {
   "display_name": "Python 3",
   "language": "python",
   "name": "python3"
  },
  "language_info": {
   "codemirror_mode": {
    "name": "ipython",
    "version": 3
   },
   "file_extension": ".py",
   "mimetype": "text/x-python",
   "name": "python",
   "nbconvert_exporter": "python",
   "pygments_lexer": "ipython3",
   "version": "3.12.1"
  }
 },
 "nbformat": 4,
 "nbformat_minor": 2
}
