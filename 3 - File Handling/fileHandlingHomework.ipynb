{
 "cells": [
  {
   "cell_type": "code",
   "execution_count": null,
   "id": "0",
   "metadata": {},
   "outputs": [],
   "source": [
    "def histogram(s):\n",
    "    hist = {}\n",
    "    for char in s:\n",
    "        hist[char] = hist.get(char, 0) + 1\n",
    "    return hist\n",
    "def anagrams(input_string):\n",
    "    input_string = input_string.strip().lower()\n",
    "    input_hist = histogram(input_string)\n",
    "    anagram_list = []\n",
    "    with open('words.txt', 'r') as f:\n",
    "        for line in f:\n",
    "            word = line.strip().lower()\n",
    "            if len(word) != len(input_string):\n",
    "                continue\n",
    "            if histogram(word) == input_hist:\n",
    "                anagram_list.append(word)\n",
    "    unique_anagrams = sorted(set(anagram_list))\n",
    "    with open('output.txt', 'w') as out:\n",
    "        for word in unique_anagrams:\n",
    "            out.write(word + '\\n')"
   ]
  },
  {
   "cell_type": "code",
   "execution_count": null,
   "id": "1",
   "metadata": {},
   "outputs": [],
   "source": [
    "anagrams('resent') "
   ]
  },
  {
   "cell_type": "code",
   "execution_count": null,
   "id": "2",
   "metadata": {},
   "outputs": [],
   "source": [
    "def heteropalindromes():\n",
    "    with open('words.txt', 'r') as file:\n",
    "        words = set(word.strip().lower() for word in file if word.strip())\n",
    "    result = set()\n",
    "    for word in words:\n",
    "        reversed_word = word[::-1]\n",
    "        if word != reversed_word and reversed_word in words:\n",
    "            pair = tuple(sorted((word, reversed_word)))\n",
    "            result.add(pair)\n",
    "    return result\n",
    "if __name__ == \"__main__\":\n",
    "    pairs = heteropalindromes()\n",
    "    print(pairs) "
   ]
  },
  {
   "cell_type": "code",
   "execution_count": null,
   "id": "3",
   "metadata": {},
   "outputs": [],
   "source": []
  }
 ],
 "metadata": {
  "kernelspec": {
   "display_name": "Python 3",
   "language": "python",
   "name": "python3"
  },
  "language_info": {
   "codemirror_mode": {
    "name": "ipython",
    "version": 3
   },
   "file_extension": ".py",
   "mimetype": "text/x-python",
   "name": "python",
   "nbconvert_exporter": "python",
   "pygments_lexer": "ipython3",
   "version": "3.12.3"
  }
 },
 "nbformat": 4,
 "nbformat_minor": 5
}
