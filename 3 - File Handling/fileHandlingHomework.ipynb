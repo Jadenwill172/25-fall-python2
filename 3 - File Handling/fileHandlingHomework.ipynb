{
 "cells": [
  {
   "cell_type": "code",
   "execution_count": 6,
   "id": "3c941062",
   "metadata": {},
   "outputs": [],
   "source": [
    "def histogram(s):\n",
    "    hist = {}\n",
    "    for char in s:\n",
    "        hist[char] = hist.get(char, 0) + 1\n",
    "    return hist\n",
    "def anagrams(input_string):\n",
    "    input_string = input_string.strip().lower()\n",
    "    input_hist = histogram(input_string)\n",
    "    anagram_list = []\n",
    "    with open('words.txt', 'r') as f:\n",
    "        for line in f:\n",
    "            word = line.strip().lower()\n",
    "            if len(word) != len(input_string):\n",
    "                continue\n",
    "            if histogram(word) == input_hist:\n",
    "                anagram_list.append(word)\n",
    "    unique_anagrams = sorted(set(anagram_list))\n",
    "    with open('anagrams_output.txt', 'w') as out:\n",
    "        for word in unique_anagrams:\n",
    "            out.write(word + '\\n')"
   ]
  },
  {
   "cell_type": "code",
   "execution_count": 9,
   "id": "979ebf63",
   "metadata": {},
   "outputs": [],
   "source": [
    "anagrams('pots')"
   ]
  },
  {
   "cell_type": "code",
   "execution_count": 5,
   "id": "d5fcfb87",
   "metadata": {},
   "outputs": [
    {
     "name": "stdout",
     "output_type": "stream",
     "text": [
      "{('nit', 'tin'), ('gip', 'pig'), ('sleeps', 'speels'), ('bal', 'lab'), ('stow', 'wots'), ('dirts', 'strid'), ('dah', 'had'), ('raps', 'spar'), ('bun', 'nub'), ('muts', 'stum'), ('taw', 'wat'), ('pow', 'wop'), ('nolos', 'solon'), ('bog', 'gob'), ('dinar', 'ranid'), ('oohs', 'shoo'), ('gnat', 'tang'), ('cares', 'serac'), ('pots', 'stop'), ('lit', 'til'), ('degami', 'imaged'), ('straw', 'warts'), ('buns', 'snub'), ('kips', 'spik'), ('airts', 'stria'), ('dewans', 'snawed'), ('mat', 'tam'), ('devil', 'lived'), ('fer', 'ref'), ('lager', 'regal'), ('gam', 'mag'), ('deer', 'reed'), ('dew', 'wed'), ('tow', 'wot'), ('gulp', 'plug'), ('sit', 'tis'), ('bird', 'drib'), ('reflet', 'telfer'), ('dos', 'sod'), ('dees', 'seed'), ('las', 'sal'), ('paws', 'swap'), ('keels', 'sleek'), ('remeet', 'teemer'), ('rebut', 'tuber'), ('redrawer', 'rewarder'), ('emir', 'rime'), ('derat', 'tared'), ('loom', 'mool'), ('duo', 'oud'), ('now', 'won'), ('oat', 'tao'), ('deliver', 'reviled'), ('loots', 'stool'), ('am', 'ma'), ('looter', 'retool'), ('draw', 'ward'), ('bat', 'tab'), ('res', 'ser'), ('sway', 'yaws'), ('eviler', 'relive'), ('loops', 'spool'), ('gul', 'lug'), ('neves', 'seven'), ('enol', 'lone'), ('cam', 'mac'), ('keets', 'steek'), ('swat', 'taws'), ('knar', 'rank'), ('pus', 'sup'), ('dor', 'rod'), ('are', 'era'), ('prat', 'tarp'), ('evil', 'live'), ('bud', 'dub'), ('bows', 'swob'), ('brag', 'garb'), ('deil', 'lied'), ('emits', 'stime'), ('rennet', 'tenner'), ('dahs', 'shad'), ('gnats', 'stang'), ('pals', 'slap'), ('ervil', 'livre'), ('ate', 'eta'), ('bals', 'slab'), ('nu', 'un'), ('lares', 'seral'), ('deeps', 'speed'), ('pows', 'swop'), ('os', 'so'), ('sat', 'tas'), ('levins', 'snivel'), ('gals', 'slag'), ('agar', 'raga'), ('namer', 'reman'), ('guls', 'slug'), ('smart', 'trams'), ('jar', 'raj'), ('ah', 'ha'), ('may', 'yam'), ('lop', 'pol'), ('lair', 'rial'), ('nut', 'tun'), ('ray', 'yar'), ('pis', 'sip'), ('meter', 'retem'), ('moor', 'room'), ('nus', 'sun'), ('dim', 'mid'), ('redraw', 'warder'), ('pacer', 'recap'), ('mot', 'tom'), ('dog', 'god'), ('fires', 'serif'), ('aider', 'redia'), ('dial', 'laid'), ('defer', 'refed'), ('macs', 'scam'), ('reknits', 'stinker'), ('anon', 'nona'), ('lobo', 'obol'), ('keep', 'peek'), ('snoops', 'spoons'), ('dam', 'mad'), ('an', 'na'), ('maws', 'swam'), ('tav', 'vat'), ('ports', 'strop'), ('pools', 'sloop'), ('strow', 'worts'), ('mho', 'ohm'), ('marcs', 'scram'), ('redips', 'spider'), ('struts', 'sturts'), ('edile', 'elide'), ('eat', 'tae'), ('trow', 'wort'), ('gat', 'tag'), ('selahs', 'shales'), ('dup', 'pud'), ('ates', 'seta'), ('pets', 'step'), ('leets', 'steel'), ('burd', 'drub'), ('even', 'neve'), ('ben', 'neb'), ('bins', 'snib'), ('dialer', 'relaid'), ('moot', 'toom'), ('deem', 'meed'), ('hey', 'yeh'), ('smuts', 'stums'), ('sprat', 'tarps'), ('leper', 'repel'), ('secret', 'terces'), ('mus', 'sum'), ('cram', 'marc'), ('loop', 'pool'), ('eh', 'he'), ('part', 'trap'), ('depots', 'stoped'), ('elides', 'sedile'), ('ajar', 'raja'), ('relit', 'tiler'), ('lever', 'revel'), ('stows', 'swots'), ('agas', 'saga'), ('do', 'od'), ('lion', 'noil'), ('anger', 'regna'), ('alif', 'fila'), ('bard', 'drab'), ('delf', 'fled'), ('poons', 'snoop'), ('gel', 'leg'), ('snow', 'wons'), ('doom', 'mood'), ('mures', 'serum'), ('reflow', 'wolfer'), ('dom', 'mod'), ('snit', 'tins'), ('devas', 'saved'), ('desserts', 'stressed'), ('nuts', 'stun'), ('stew', 'wets'), ('saw', 'was'), ('decal', 'laced'), ('don', 'nod'), ('bag', 'gab'), ('it', 'ti'), ('snaps', 'spans'), ('at', 'ta'), ('depot', 'toped'), ('hop', 'poh'), ('got', 'tog'), ('flog', 'golf'), ('larum', 'mural'), ('hahs', 'shah'), ('ho', 'oh'), ('dap', 'pad'), ('cod', 'doc'), ('dups', 'spud'), ('gelder', 'redleg'), ('diols', 'sloid'), ('but', 'tub'), ('denier', 'reined'), ('dens', 'sned'), ('animes', 'semina'), ('gnus', 'sung'), ('dedal', 'laded'), ('ad', 'da'), ('gum', 'mug'), ('bed', 'deb'), ('raw', 'war'), ('cap', 'pac'), ('kay', 'yak'), ('rees', 'seer'), ('bots', 'stob'), ('sports', 'strops'), ('bus', 'sub'), ('pot', 'top'), ('dorp', 'prod'), ('eros', 'sore'), ('skips', 'spiks'), ('gums', 'smug'), ('burg', 'grub'), ('recaps', 'spacer'), ('slit', 'tils'), ('demit', 'timed'), ('skeets', 'steeks'), ('flow', 'wolf'), ('hoop', 'pooh'), ('six', 'xis'), ('dexes', 'sexed'), ('ban', 'nab'), ('hay', 'yah'), ('remit', 'timer'), ('rats', 'star'), ('agenes', 'senega'), ('spots', 'stops'), ('abut', 'tuba'), ('snaw', 'wans'), ('em', 'me'), ('drawer', 'reward'), ('gnaws', 'swang'), ('sallets', 'stellas'), ('pit', 'tip'), ('liar', 'rail'), ('tew', 'wet'), ('duel', 'leud'), ('draws', 'sward'), ('mis', 'sim'), ('pay', 'yap'), ('reknit', 'tinker'), ('pees', 'seep'), ('dual', 'laud'), ('ducs', 'scud'), ('deifier', 'reified'), ('er', 're'), ('dart', 'trad'), ('brad', 'darb'), ('dessert', 'tressed'), ('debut', 'tubed'), ('gal', 'lag'), ('spirts', 'strips'), ('saps', 'spas'), ('emit', 'time'), ('spot', 'tops'), ('port', 'trop'), ('loot', 'tool'), ('nips', 'spin'), ('fool', 'loof'), ('eel', 'lee'), ('lin', 'nil'), ('edit', 'tide'), ('per', 'rep'), ('staw', 'wats'), ('neep', 'peen'), ('ergo', 'ogre'), ('loons', 'snool'), ('nos', 'son'), ('rebus', 'suber'), ('mils', 'slim'), ('girt', 'trig'), ('avo', 'ova'), ('ados', 'soda'), ('deke', 'eked'), ('spit', 'tips'), ('bas', 'sab'), ('not', 'ton'), ('mar', 'ram'), ('diaper', 'repaid'), ('nip', 'pin'), ('spat', 'taps'), ('auks', 'skua'), ('big', 'gib'), ('bos', 'sob'), ('pins', 'snip'), ('ow', 'wo'), ('rat', 'tar'), ('net', 'ten'), ('leer', 'reel'), ('nap', 'pan'), ('seeks', 'skees'), ('mon', 'nom'), ('buts', 'stub'), ('daw', 'wad'), ('sloops', 'spools'), ('bid', 'dib'), ('amis', 'sima'), ('dig', 'gid'), ('guns', 'snug'), ('dray', 'yard'), ('no', 'on'), ('deep', 'peed'), ('ares', 'sera'), ('puris', 'sirup'), ('par', 'rap'), ('spay', 'yaps'), ('bin', 'nib'), ('pas', 'sap'), ('snaws', 'swans'), ('bats', 'stab'), ('lap', 'pal'), ('naps', 'span'), ('aril', 'lira'), ('sow', 'wos'), ('bad', 'dab'), ('rot', 'tor'), ('new', 'wen'), ('parts', 'strap'), ('lees', 'seel'), ('pupils', 'slipup'), ('peels', 'sleep'), ('meet', 'teem'), ('drail', 'liard'), ('mart', 'tram'), ('dels', 'sled'), ('habus', 'subah'), ('dormin', 'nimrod'), ('snot', 'tons'), ('knaps', 'spank'), ('ante', 'etna'), ('sirs', 'sris'), ('derats', 'stared'), ('ay', 'ya'), ('animal', 'lamina'), ('put', 'tup'), ('amen', 'nema'), ('gats', 'stag'), ('way', 'yaw'), ('spirt', 'trips'), ('door', 'rood'), ('arris', 'sirra'), ('gan', 'nag'), ('gar', 'rag'), ('bur', 'rub'), ('cud', 'duc'), ('swot', 'tows'), ('dot', 'tod'), ('tort', 'trot'), ('oot', 'too'), ('etas', 'sate'), ('scares', 'seracs'), ('emes', 'seme'), ('lotos', 'sotol'), ('map', 'pam'), ('bis', 'sib'), ('hales', 'selah'), ('is', 'si'), ('denim', 'mined'), ('repins', 'sniper'), ('redes', 'seder'), ('snoot', 'toons'), ('maes', 'seam'), ('del', 'led'), ('knits', 'stink'), ('denies', 'seined'), ('avid', 'diva'), ('pans', 'snap'), ('gut', 'tug'), ('gnar', 'rang'), ('snips', 'spins'), ('dag', 'gad'), ('sprits', 'stirps'), ('get', 'teg'), ('keel', 'leek'), ('arum', 'mura'), ('sleets', 'steels'), ('gas', 'sag'), ('mir', 'rim'), ('paw', 'wap'), ('pols', 'slop'), ('hap', 'pah'), ('notes', 'seton'), ('pat', 'tap')}\n"
     ]
    }
   ],
   "source": [
    "def heteropalindromes():\n",
    "    with open('words.txt', 'r') as file:\n",
    "        words = set(word.strip().lower() for word in file if word.strip())\n",
    "    result = set()\n",
    "    for word in words:\n",
    "        reversed_word = word[::-1]\n",
    "        if word != reversed_word and reversed_word in words:\n",
    "            pair = tuple(sorted((word, reversed_word)))\n",
    "            result.add(pair)\n",
    "    return result\n",
    "if __name__ == \"__main__\":\n",
    "    pairs = heteropalindromes()\n",
    "    print(pairs) "
   ]
  },
  {
   "cell_type": "code",
   "execution_count": null,
   "id": "39edc85b",
   "metadata": {},
   "outputs": [],
   "source": []
  }
 ],
 "metadata": {
  "kernelspec": {
   "display_name": "Python 3",
   "language": "python",
   "name": "python3"
  },
  "language_info": {
   "codemirror_mode": {
    "name": "ipython",
    "version": 3
   },
   "file_extension": ".py",
   "mimetype": "text/x-python",
   "name": "python",
   "nbconvert_exporter": "python",
   "pygments_lexer": "ipython3",
   "version": "3.12.3"
  }
 },
 "nbformat": 4,
 "nbformat_minor": 5
}
