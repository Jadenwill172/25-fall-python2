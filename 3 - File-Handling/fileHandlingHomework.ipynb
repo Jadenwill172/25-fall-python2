{
 "cells": [
  {
   "cell_type": "code",
   "execution_count": 1,
   "id": "3c941062",
   "metadata": {},
   "outputs": [],
   "source": [
    "def histogram(s):\n",
    "    \"\"\"Returns a dictionary counting the frequency of each letter in the string.\"\"\"\n",
    "    hist = {}\n",
    "    for char in s:\n",
    "        hist[char] = hist.get(char, 0) + 1\n",
    "    return hist\n",
    "\n",
    "def anagrams(input_string):\n",
    "    input_string = input_string.strip().lower()\n",
    "    input_hist = histogram(input_string)\n",
    "\n",
    "    anagram_list = []\n",
    "\n",
    "    with open('words.txt', 'r') as f:\n",
    "        for line in f:\n",
    "            word = line.strip().lower()\n",
    "            if len(word) != len(input_string):\n",
    "                continue\n",
    "            if histogram(word) == input_hist:\n",
    "                anagram_list.append(word)\n",
    "\n",
    "    # Remove duplicates and sort for consistency\n",
    "    unique_anagrams = sorted(set(anagram_list))\n",
    "\n",
    "    with open('anagrams_output.txt', 'w') as out:\n",
    "        for word in unique_anagrams:\n",
    "            out.write(word + '\\n')"
   ]
  },
  {
   "cell_type": "code",
   "execution_count": null,
   "id": "d5fcfb87",
   "metadata": {},
   "outputs": [],
   "source": []
  }
 ],
 "metadata": {
  "kernelspec": {
   "display_name": "Python 3",
   "language": "python",
   "name": "python3"
  },
  "language_info": {
   "codemirror_mode": {
    "name": "ipython",
    "version": 3
   },
   "file_extension": ".py",
   "mimetype": "text/x-python",
   "name": "python",
   "nbconvert_exporter": "python",
   "pygments_lexer": "ipython3",
   "version": "3.12.1"
  }
 },
 "nbformat": 4,
 "nbformat_minor": 5
}
