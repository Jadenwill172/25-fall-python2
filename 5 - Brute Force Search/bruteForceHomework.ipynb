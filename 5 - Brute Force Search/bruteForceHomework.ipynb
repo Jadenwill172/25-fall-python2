{
 "cells": [
  {
   "cell_type": "markdown",
   "id": "8694db0c",
   "metadata": {},
   "source": [
    "# Psuedocode\n",
    " Convert number to string\n",
    "    If string is the same as its reverse:\n",
    "        Return True\n",
    "    Else:\n",
    "        Return False\n",
    "\n",
    "Set smallest to 10^(n - 1)\n",
    "    Set largest to 10^n - 1\n",
    "    Set max_palindrome to 0\n",
    "    For i from largest down to smallest:\n",
    "        For j from i down to smallest:\n",
    "            multiply i and j together\n",
    "            If product is a palindrome AND the product is greater than max_palindrome:\n",
    "                Set max_palindrome equals product\n",
    "\n",
    "    Return max_palindrome"
   ]
  },
  {
   "cell_type": "code",
   "execution_count": 3,
   "id": "591d1be7",
   "metadata": {},
   "outputs": [],
   "source": [
    "def is_palindrome(num: int) -> bool:\n",
    "    s = str(num)\n",
    "    return s == s[::-1]\n",
    "\n",
    "def palindromic_product(n: int) -> int:\n",
    "    low = 10 ** (n - 1)\n",
    "    high = 10 ** n - 1\n",
    "    max_palindrome = 0\n",
    "\n",
    "    for i in range(high, low - 1, -1):\n",
    "        for j in range(i, low - 1, -1):\n",
    "            product = i * j\n",
    "            if product <= max_palindrome:\n",
    "                break  \n",
    "            if is_palindrome(product):\n",
    "                max_palindrome = product\n",
    "    return max_palindrome\n",
    "\n",
    "def primes_list(n: int) -> list[int]:\n",
    "    if n < 2:\n",
    "        return []\n",
    "    primes = [2]\n",
    "    for number in range(3, n + 1):\n",
    "        is_prime = True\n",
    "        for p in primes:\n",
    "            if p * p > number:\n",
    "                break\n",
    "            if number % p == 0:\n",
    "                is_prime = False\n",
    "                break\n",
    "        if is_prime:\n",
    "            primes.append(number)\n",
    "    return primes"
   ]
  },
  {
   "cell_type": "code",
   "execution_count": 4,
   "id": "084b4132",
   "metadata": {},
   "outputs": [
    {
     "name": "stdout",
     "output_type": "stream",
     "text": [
      "palindromic_product(3) = 906609\n",
      "primes_list(19) = [2, 3, 5, 7, 11, 13, 17, 19]\n"
     ]
    }
   ],
   "source": [
    "print(\"palindromic_product(3) =\", palindromic_product(3))  \n",
    "# Expected: 906609 (993 * 913)\n",
    "\n",
    "print(\"primes_list(19) =\", primes_list(19))\n",
    "# Expected: [2, 3, 5, 7, 11, 13, 17, 19]"
   ]
  }
 ],
 "metadata": {
  "kernelspec": {
   "display_name": "Python 3",
   "language": "python",
   "name": "python3"
  },
  "language_info": {
   "codemirror_mode": {
    "name": "ipython",
    "version": 3
   },
   "file_extension": ".py",
   "mimetype": "text/x-python",
   "name": "python",
   "nbconvert_exporter": "python",
   "pygments_lexer": "ipython3",
   "version": "3.12.1"
  }
 },
 "nbformat": 4,
 "nbformat_minor": 5
}
