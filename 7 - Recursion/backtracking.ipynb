{
 "cells": [
  {
   "cell_type": "markdown",
   "id": "0649eb2d",
   "metadata": {},
   "source": [
    "# Backtracking Psuedocode \n",
    "create a global variable to hold all possible tilings\n",
    "\n",
    "have a recursive function to build tilings of a given total length\n",
    "\n",
    "    Calculate the sum of the tiles chosen so far\n",
    "\n",
    "    IF you have a base case\n",
    "\n",
    "        return\n",
    "\n",
    "    ELSE for each tile\n",
    "\n",
    "        create a new partial tiling that includes this tile\n",
    "\n",
    "\n",
    "\n",
    "\n",
    "Global variable to hold all valid subsets\n",
    "\n",
    "Recursive function to find all subsets of integers that sum to a target\n",
    "\n",
    "Compute the current total of the chosen integers\n",
    "\n",
    "--- Base Case: Found a subset that matches the target ---\n",
    "\n",
    "--- Recursive Case: Still can add more integers ---\n",
    "\n",
    "Iterate over each available integer\n",
    "\n",
    "Select the current integer\n",
    "\n",
    "Remaining numbers are those after the current one\n",
    "\n",
    "Only continue if adding this integer doesn’t exceed target\n",
    "\n",
    "Build a new partial subset including this integer\n",
    "\n",
    "Recurse with updated subset and remaining numbers\n",
    "\n",
    "\n"
   ]
  },
  {
   "cell_type": "code",
   "execution_count": 1,
   "id": "ecf0decd",
   "metadata": {},
   "outputs": [
    {
     "name": "stdout",
     "output_type": "stream",
     "text": [
      "[[1, 1, 1, 1], [1, 1, 2], [1, 2, 1], [1, 3], [2, 1, 1], [2, 2], [3, 1], [4]]\n"
     ]
    }
   ],
   "source": [
    "all_tilings = []\n",
    "\n",
    "def generate_tilings(partial_tiling, length):\n",
    "    global all_tilings\n",
    "    current_sum = sum(partial_tiling)\n",
    "\n",
    "    if current_sum == length:\n",
    "        all_tilings.append(partial_tiling)\n",
    "    elif current_sum < length:\n",
    "        for tile_size in [1, 2, 3, 4]:\n",
    "            if current_sum + tile_size <= length:\n",
    "                generate_tilings(partial_tiling + [tile_size], length)\n",
    "\n",
    "all_tilings = []\n",
    "generate_tilings([], 4)\n",
    "print(all_tilings)\n",
    "\n"
   ]
  },
  {
   "cell_type": "code",
   "execution_count": 3,
   "id": "21db3d45",
   "metadata": {},
   "outputs": [
    {
     "name": "stdout",
     "output_type": "stream",
     "text": [
      "[[1, 2, 3], [1, 5], [2, 4], [6]]\n"
     ]
    }
   ],
   "source": [
    "all_subsets = []\n",
    "def subset_sum(partial_sum, remaining_ints, target):\n",
    "    global all_subsets\n",
    "    current_sum = sum(partial_sum)\n",
    "    if current_sum == target:\n",
    "        all_subsets.append(partial_sum)\n",
    "    elif current_sum < target:\n",
    "        for i in range(len(remaining_ints)):\n",
    "            next_int = remaining_ints[i]\n",
    "            new_remaining = remaining_ints[i+1:]\n",
    "            if current_sum + next_int <= target:\n",
    "                subset_sum(partial_sum + [next_int], new_remaining, target)\n",
    "\n",
    "all_subsets = []\n",
    "subset_sum([], [1, 2, 3, 4, 5, 6, 7], 6)\n",
    "print(all_subsets)"
   ]
  },
  {
   "cell_type": "code",
   "execution_count": null,
   "id": "c98f5c4c",
   "metadata": {},
   "outputs": [],
   "source": []
  }
 ],
 "metadata": {
  "kernelspec": {
   "display_name": "Python 3",
   "language": "python",
   "name": "python3"
  },
  "language_info": {
   "codemirror_mode": {
    "name": "ipython",
    "version": 3
   },
   "file_extension": ".py",
   "mimetype": "text/x-python",
   "name": "python",
   "nbconvert_exporter": "python",
   "pygments_lexer": "ipython3",
   "version": "3.12.1"
  }
 },
 "nbformat": 4,
 "nbformat_minor": 5
}
