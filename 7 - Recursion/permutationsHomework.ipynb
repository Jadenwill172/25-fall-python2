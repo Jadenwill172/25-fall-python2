{
 "cells": [
  {
   "cell_type": "markdown",
   "id": "c7ba74b1",
   "metadata": {},
   "source": [
    "# PermutationsHomework Pseudocode\n",
    "\n",
    "### Generating Tilings\n",
    "Set the total equal to the sum of the partial tiling\n",
    "IF the total is equal to the length\n",
    "    add partial tiling to the solution\n",
    "Otherwise if the total is less than the length\n",
    "    FOR each element in the list of numbers\n",
    "        generate the partical tiling and add the tile size to it. \n",
    "Function generate_tilings(partial_tiling, length):\n",
    "    total = sum(partial_tiling)\n",
    "    \n",
    "    If total == length:\n",
    "        Add partial_tiling to solutions\n",
    "    Else if total < length:\n",
    "        For tile_size in [1, 2, 3, 4]:\n",
    "            generate_tilings(partial_tiling + [tile_size], length)\n",
    "\n",
    "### Subset Sum\n",
    "Function subset_sum(partial_sum, remaining_ints, target):\n",
    "    total = sum(partial_sum)\n",
    "    \n",
    "    If total == target:\n",
    "        Add partial_sum to solutions\n",
    "    Else if total < target:\n",
    "        For i in range(len(remaining_ints)):\n",
    "            current = remaining_ints[i]\n",
    "            next_remaining = remaining_ints[i+1:]\n",
    "            subset_sum(partial_sum + [current], next_remaining, target)"
   ]
  },
  {
   "cell_type": "code",
   "execution_count": 2,
   "id": "6c639253",
   "metadata": {},
   "outputs": [
    {
     "name": "stdout",
     "output_type": "stream",
     "text": [
      "Tilings of length 4:\n",
      "[1, 1, 1, 1]\n",
      "[1, 1, 2]\n",
      "[1, 2, 1]\n",
      "[1, 3]\n",
      "[2, 1, 1]\n",
      "[2, 2]\n",
      "[3, 1]\n",
      "[4]\n",
      "Subset sums that sum to 6:\n",
      "[1, 2, 3]\n",
      "[1, 5]\n",
      "[2, 4]\n",
      "[6]\n"
     ]
    }
   ],
   "source": [
    "# Global list for storing tiling results\n",
    "tiling_solutions = []\n",
    "def generate_tilings(partial_tiling, length):\n",
    "    total = sum(partial_tiling)\n",
    "    if total == length:\n",
    "        tiling_solutions.append(partial_tiling)\n",
    "    elif total < length:\n",
    "        for tile_size in [1, 2, 3, 4]:\n",
    "            generate_tilings(partial_tiling + [tile_size], length)\n",
    "# Global list for storing subset sum results\n",
    "subset_solutions = []\n",
    "def subset_sum(partial_sum, remaining_ints, target):\n",
    "    total = sum(partial_sum)\n",
    "    if total == target:\n",
    "        subset_solutions.append(partial_sum)\n",
    "    elif total < target:\n",
    "        for i in range(len(remaining_ints)):\n",
    "            current = remaining_ints[i]\n",
    "            next_remaining = remaining_ints[i+1:]  # Ensure no repeats\n",
    "            subset_sum(partial_sum + [current], next_remaining, target)\n",
    "# Run test cases\n",
    "# Test case for generate_tilings([], 4)\n",
    "tiling_solutions = []\n",
    "generate_tilings([], 4)\n",
    "print(\"Tilings of length 4:\")\n",
    "for sol in tiling_solutions:\n",
    "    print(sol)\n",
    "# Test case for subset_sum([], [1,2,3,4,5,6,7], 6)\n",
    "subset_solutions = []\n",
    "subset_sum([], [1, 2, 3, 4, 5, 6, 7], 6)\n",
    "print(\"Subset sums that sum to 6:\")\n",
    "for sol in subset_solutions:\n",
    "    print(sol)"
   ]
  }
 ],
 "metadata": {
  "kernelspec": {
   "display_name": "Python 3",
   "language": "python",
   "name": "python3"
  },
  "language_info": {
   "codemirror_mode": {
    "name": "ipython",
    "version": 3
   },
   "file_extension": ".py",
   "mimetype": "text/x-python",
   "name": "python",
   "nbconvert_exporter": "python",
   "pygments_lexer": "ipython3",
   "version": "3.12.1"
  }
 },
 "nbformat": 4,
 "nbformat_minor": 5
}
