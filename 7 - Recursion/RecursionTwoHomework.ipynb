{
 "cells": [
  {
   "cell_type": "markdown",
   "id": "4420e493",
   "metadata": {},
   "source": [
    "# RecursionTwoHomework Psuedocode\n",
    "if length of the array is less than or equal to one:\n",
    "\n",
    "    return array\n",
    "\n",
    "find the index of the maximum element in the array\n",
    "\n",
    "remove that maximum element from array\n",
    "\n",
    "recursively sort the remaining array\n",
    "\n",
    "return the sorted array added to maximum element"
   ]
  },
  {
   "cell_type": "code",
   "execution_count": null,
   "id": "79beba70",
   "metadata": {},
   "outputs": [],
   "source": [
    "def mergesort(arr):\n",
    "    if len(arr) <= 1:\n",
    "        return arr\n",
    "    mid = len(arr) // 2\n",
    "    left_half = mergesort(arr[:mid])\n",
    "    right_half = mergesort(arr[mid:])\n",
    "    return merge(left_half, right_half)\n",
    "def merge(left, right):\n",
    "    result = []\n",
    "    i = j = 0\n",
    "    while i < len(left) and j < len(right):\n",
    "        if left[i] <= right[j]:\n",
    "            result.append(left[i])\n",
    "            i += 1\n",
    "        else:\n",
    "            result.append(right[j])\n",
    "            j += 1\n",
    "    result.extend(left[i:])\n",
    "    result.extend(right[j:]) \n",
    "    return result"
   ]
  },
  {
   "cell_type": "code",
   "execution_count": null,
   "id": "eb17741e",
   "metadata": {},
   "outputs": [],
   "source": [
    "def selection_recursive(arr):\n",
    "    if len(arr) <= 1:\n",
    "        return arr[:]\n",
    "    max_index = 0\n",
    "    for i in range(1, len(arr)):\n",
    "        if arr[i] > arr[max_index]:\n",
    "            max_index = i\n",
    "    max_element = arr[max_index]\n",
    "    remaining = arr[:max_index] + arr[max_index+1:]\n",
    "    sorted_rest = selection_recursive(remaining)\n",
    "    return sorted_rest + [max_element]"
   ]
  },
  {
   "cell_type": "code",
   "execution_count": 7,
   "id": "49a2371d",
   "metadata": {},
   "outputs": [
    {
     "data": {
      "text/plain": [
       "[1, 2, 3, 4, 5, 5, 5, 6, 7, 8, 9]"
      ]
     },
     "execution_count": 7,
     "metadata": {},
     "output_type": "execute_result"
    }
   ],
   "source": [
    "mergesort([6, 5, 5, 7, 4, 8, 3, 5, 1, 2, 9])"
   ]
  },
  {
   "cell_type": "code",
   "execution_count": 8,
   "id": "4c34b6a8",
   "metadata": {},
   "outputs": [
    {
     "data": {
      "text/plain": [
       "[1, 2, 3, 4, 5, 5, 5, 6, 7, 8, 9]"
      ]
     },
     "execution_count": 8,
     "metadata": {},
     "output_type": "execute_result"
    }
   ],
   "source": [
    "selection_recursive([6, 5, 5, 7, 4, 8, 3, 5, 1, 2, 9])"
   ]
  }
 ],
 "metadata": {
  "kernelspec": {
   "display_name": "Python 3",
   "language": "python",
   "name": "python3"
  },
  "language_info": {
   "codemirror_mode": {
    "name": "ipython",
    "version": 3
   },
   "file_extension": ".py",
   "mimetype": "text/x-python",
   "name": "python",
   "nbconvert_exporter": "python",
   "pygments_lexer": "ipython3",
   "version": "3.12.1"
  }
 },
 "nbformat": 4,
 "nbformat_minor": 5
}
