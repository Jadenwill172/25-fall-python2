{
 "cells": [
  {
   "cell_type": "markdown",
   "id": "4420e493",
   "metadata": {},
   "source": [
    "# RecursionTwoHomework Psuedocode"
   ]
  }
 ],
 "metadata": {
  "language_info": {
   "name": "python"
  }
 },
 "nbformat": 4,
 "nbformat_minor": 5
}
