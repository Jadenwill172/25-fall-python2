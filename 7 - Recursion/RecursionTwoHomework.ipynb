{
 "cells": [
  {
   "cell_type": "markdown",
   "id": "4420e493",
   "metadata": {},
   "source": [
    "# RecursionTwoHomework Psuedocode\n",
    "### Mergesort\n",
    "If the length of arr is one or less\n",
    "\n",
    "    Return arr because it is already sorted.\n",
    "\n",
    "Find the middle index of arr by dividing its length by two.\n",
    "\n",
    "Split arr into two halves:\n",
    "\n",
    "    The left half is from the beginning of arr to the middle index.\n",
    "\n",
    "    The right half is from the middle index to the end of arr.\n",
    "\n",
    "Recursively call mergesort on the left half and store the result.\n",
    "\n",
    "Recursively call mergesort on the right half and store the result.\n",
    "\n",
    "Return the result of calling the merge function on the two sorted halves.\n",
    "\n",
    "### Recursive Selection sort\n",
    "If the length of arr is one or less\n",
    "\n",
    "    Return a copy of arr because it is already sorted.\n",
    "\n",
    "Start by assuming the first element is the largest.\n",
    "\n",
    "Set a variable called max_index to zero.\n",
    "\n",
    "Loop through the list starting from the second element:\n",
    "\n",
    "    For each element\n",
    "\n",
    "        If the current element is greater than the element at max_index\n",
    "\n",
    "            Update max_index to the current position.\n",
    "\n",
    "After finding the largest element, store it in a variable called max_element.\n",
    "\n",
    "Create a new list called remaining that contains all elements from arr\n",
    "\n",
    "    except for the element at max_index.\n",
    "\n",
    "Recursively call selection_recursive on the remaining list\n",
    "\n",
    "    and store the result in a variable called sorted_rest.\n",
    "    \n",
    "Return sorted_rest followed by the max_element at the end."
   ]
  },
  {
   "cell_type": "code",
   "execution_count": null,
   "id": "79beba70",
   "metadata": {},
   "outputs": [],
   "source": [
    "def mergesort(arr):\n",
    "    if len(arr) <= 1:\n",
    "        return arr\n",
    "    mid = len(arr) // 2\n",
    "    left_half = mergesort(arr[:mid])\n",
    "    right_half = mergesort(arr[mid:])\n",
    "    return merge(left_half, right_half)\n",
    "def merge(left, right):\n",
    "    result = []\n",
    "    i = j = 0\n",
    "    while i < len(left) and j < len(right):\n",
    "        if left[i] <= right[j]:\n",
    "            result.append(left[i])\n",
    "            i += 1\n",
    "        else:\n",
    "            result.append(right[j])\n",
    "            j += 1\n",
    "    result.extend(left[i:])\n",
    "    result.extend(right[j:]) \n",
    "    return result"
   ]
  },
  {
   "cell_type": "code",
   "execution_count": null,
   "id": "eb17741e",
   "metadata": {},
   "outputs": [],
   "source": [
    "def selection_recursive(arr):\n",
    "    if len(arr) <= 1:\n",
    "        return arr[:]\n",
    "    max_index = 0\n",
    "    for i in range(1, len(arr)):\n",
    "        if arr[i] > arr[max_index]:\n",
    "            max_index = i\n",
    "    max_element = arr[max_index]\n",
    "    remaining = arr[:max_index] + arr[max_index+1:]\n",
    "    sorted_rest = selection_recursive(remaining)\n",
    "    return sorted_rest + [max_element]"
   ]
  },
  {
   "cell_type": "code",
   "execution_count": 7,
   "id": "49a2371d",
   "metadata": {},
   "outputs": [
    {
     "data": {
      "text/plain": [
       "[1, 2, 3, 4, 5, 5, 5, 6, 7, 8, 9]"
      ]
     },
     "execution_count": 7,
     "metadata": {},
     "output_type": "execute_result"
    }
   ],
   "source": [
    "mergesort([6, 5, 5, 7, 4, 8, 3, 5, 1, 2, 9])"
   ]
  },
  {
   "cell_type": "code",
   "execution_count": 8,
   "id": "4c34b6a8",
   "metadata": {},
   "outputs": [
    {
     "data": {
      "text/plain": [
       "[1, 2, 3, 4, 5, 5, 5, 6, 7, 8, 9]"
      ]
     },
     "execution_count": 8,
     "metadata": {},
     "output_type": "execute_result"
    }
   ],
   "source": [
    "selection_recursive([6, 5, 5, 7, 4, 8, 3, 5, 1, 2, 9])"
   ]
  }
 ],
 "metadata": {
  "kernelspec": {
   "display_name": "Python 3",
   "language": "python",
   "name": "python3"
  },
  "language_info": {
   "codemirror_mode": {
    "name": "ipython",
    "version": 3
   },
   "file_extension": ".py",
   "mimetype": "text/x-python",
   "name": "python",
   "nbconvert_exporter": "python",
   "pygments_lexer": "ipython3",
   "version": "3.12.1"
  }
 },
 "nbformat": 4,
 "nbformat_minor": 5
}
