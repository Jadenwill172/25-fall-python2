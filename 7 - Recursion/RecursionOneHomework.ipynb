{
 "cells": [
  {
   "cell_type": "markdown",
   "id": "e5b74a77",
   "metadata": {},
   "source": [
    "# RecursionOneHomework Psuedocode\n",
    "sds"
   ]
  },
  {
   "cell_type": "code",
   "execution_count": 3,
   "id": "0c86ae5e",
   "metadata": {},
   "outputs": [],
   "source": [
    "def colored_blocks(n, tiles={}):\n",
    "    if n in tiles:\n",
    "        return tiles[n]\n",
    "    if n == 0:\n",
    "        return 1\n",
    "    if n < 0:\n",
    "        return 0\n",
    "    # Recurrence: sum over tile sizes 1 to 4\n",
    "    tiles[n] = (\n",
    "        colored_blocks(n - 1, tiles) +\n",
    "        colored_blocks(n - 2, tiles) +\n",
    "        colored_blocks(n - 3, tiles) +\n",
    "        colored_blocks(n - 4, tiles)\n",
    "    )\n",
    "    return tiles[n]\n",
    "\n",
    "# Part 2: Stirling Numbers of the Second Kind\n",
    "\n",
    "def stirling2(n, k, tiles={}):\n",
    "    # Initialize base cases on first call\n",
    "    if not tiles:\n",
    "        for i in range(1, n+1):\n",
    "            tiles[(i, 1)] = 1\n",
    "            tiles[(i, i)] = 1\n",
    "        # Optional: fill in memo[(i, j)] = 0 when j > i\n",
    "    if (n, k) in tiles:\n",
    "        return tiles[(n, k)]\n",
    "    if k > n or k == 0:\n",
    "        return 0\n",
    "    # Recurrence: S(n, k) = k * S(n-1, k) + S(n-1, k-1)\n",
    "    tiles[(n, k)] = k * stirling2(n - 1, k, tiles) + stirling2(n - 1, k - 1, tiles)\n",
    "    return tiles[(n, k)]"
   ]
  },
  {
   "cell_type": "code",
   "execution_count": 4,
   "id": "33fe696f",
   "metadata": {},
   "outputs": [
    {
     "name": "stdout",
     "output_type": "stream",
     "text": [
      "colored_blocks(50) = 100808458960497\n",
      "stirling2(10, 5) = 42525\n"
     ]
    }
   ],
   "source": [
    "print(\"colored_blocks(50) =\", colored_blocks(50))\n",
    "print(\"stirling2(10, 5) =\", stirling2(10, 5))     "
   ]
  }
 ],
 "metadata": {
  "kernelspec": {
   "display_name": "Python 3",
   "language": "python",
   "name": "python3"
  },
  "language_info": {
   "codemirror_mode": {
    "name": "ipython",
    "version": 3
   },
   "file_extension": ".py",
   "mimetype": "text/x-python",
   "name": "python",
   "nbconvert_exporter": "python",
   "pygments_lexer": "ipython3",
   "version": "3.12.1"
  }
 },
 "nbformat": 4,
 "nbformat_minor": 5
}
