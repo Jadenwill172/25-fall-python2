{
 "cells": [
  {
   "cell_type": "code",
   "execution_count": null,
   "id": "678fdfa0",
   "metadata": {},
   "outputs": [],
   "source": [
    "# Number 1\n",
    "def histogram(string_list):\n",
    "    dict = {}\n",
    "    for item in string_list:\n",
    "        if item in dict:\n",
    "            dict[item] += 1\n",
    "        else:\n",
    "            dict[item] = 1\n",
    "    return dict"
   ]
  },
  {
   "cell_type": "code",
   "execution_count": 17,
   "id": "d5735ccb",
   "metadata": {},
   "outputs": [
    {
     "data": {
      "text/plain": [
       "{'word': 3, 'text': 1, 'string': 1}"
      ]
     },
     "execution_count": 17,
     "metadata": {},
     "output_type": "execute_result"
    }
   ],
   "source": [
    "histogram(['word', 'text', 'word', 'word', 'string'])"
   ]
  },
  {
   "cell_type": "code",
   "execution_count": null,
   "id": "7a008e88",
   "metadata": {},
   "outputs": [],
   "source": [
    "# Number 2\n",
    "def reverse_tuple(tuple_set1, tuple_set2):\n",
    "    for pair in tuple_set1:\n",
    "        reversed_pair = (pair[1], pair[0])\n",
    "        if reversed_pair in tuple_set2:\n",
    "            return True\n",
    "    return False\n"
   ]
  },
  {
   "cell_type": "code",
   "execution_count": 14,
   "id": "954b34ff",
   "metadata": {},
   "outputs": [
    {
     "data": {
      "text/plain": [
       "True"
      ]
     },
     "execution_count": 14,
     "metadata": {},
     "output_type": "execute_result"
    }
   ],
   "source": [
    "reverse_tuple({(1, 2), (3, 4)}, {(2, 1), (5, 6)})"
   ]
  },
  {
   "cell_type": "code",
   "execution_count": 15,
   "id": "8e4fecea",
   "metadata": {},
   "outputs": [
    {
     "data": {
      "text/plain": [
       "False"
      ]
     },
     "execution_count": 15,
     "metadata": {},
     "output_type": "execute_result"
    }
   ],
   "source": [
    "reverse_tuple({(1, 2), (3, 4)}, {(1, 2), (2, 3)})"
   ]
  }
 ],
 "metadata": {
  "kernelspec": {
   "display_name": "Python 3",
   "language": "python",
   "name": "python3"
  },
  "language_info": {
   "codemirror_mode": {
    "name": "ipython",
    "version": 3
   },
   "file_extension": ".py",
   "mimetype": "text/x-python",
   "name": "python",
   "nbconvert_exporter": "python",
   "pygments_lexer": "ipython3",
   "version": "3.12.1"
  }
 },
 "nbformat": 4,
 "nbformat_minor": 5
}
