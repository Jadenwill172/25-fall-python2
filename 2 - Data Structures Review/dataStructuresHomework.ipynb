{
 "cells": [
  {
   "cell_type": "code",
   "execution_count": null,
   "id": "1d12b2c3",
   "metadata": {},
   "outputs": [],
   "source": [
    "def histogram(string_list):\n",
    "    dict = {}\n",
    "    for item in string_list:\n",
    "        if item in dict:\n",
    "            dict[item] += 1\n",
    "        else:\n",
    "            dict[item]\n",
    "\n",
    "\n",
    "\n"
   ]
  },
  {
   "cell_type": "code",
   "execution_count": 2,
   "id": "678fdfa0",
   "metadata": {},
   "outputs": [
    {
     "name": "stdout",
     "output_type": "stream",
     "text": [
      "{'a': 1, 'c': 2, 'b': 1}\n"
     ]
    }
   ],
   "source": [
    "def histogram(string_list):\n",
    "    freq_dict = {}\n",
    "    for item in string_list:\n",
    "        if item in freq_dict:\n",
    "            freq_dict[item] += 1\n",
    "        else:\n",
    "            freq_dict[item] = 1\n",
    "    return freq_dict\n",
    "\n",
    "string_list = ['a', 'c', 'c', 'b']\n",
    "print(histogram(string_list))"
   ]
  },
  {
   "cell_type": "code",
   "execution_count": null,
   "id": "7a008e88",
   "metadata": {},
   "outputs": [
    {
     "name": "stdout",
     "output_type": "stream",
     "text": [
      "True\n"
     ]
    }
   ],
   "source": [
    "def reverse_tuple(tuple_set1, tuple_set2):\n",
    "    for pair in tuple_set1:\n",
    "        reversed_pair = (pair[1], pair[0])\n",
    "        if reversed_pair in tuple_set2:\n",
    "            return True\n",
    "    return False\n",
    "\n",
    "tuple_set1 = {(1, 2), (3, 4)}\n",
    "tuple_set2 = {(2, 1), (5, 6)}\n",
    "\n",
    "print(reverse_tuple(tuple_set1, tuple_set2))"
   ]
  },
  {
   "cell_type": "code",
   "execution_count": null,
   "id": "6bcccc6f",
   "metadata": {},
   "outputs": [
    {
     "ename": "SyntaxError",
     "evalue": "invalid syntax (3143134755.py, line 1)",
     "output_type": "error",
     "traceback": [
      "  \u001b[36mCell\u001b[39m\u001b[36m \u001b[39m\u001b[32mIn[5]\u001b[39m\u001b[32m, line 1\u001b[39m\n\u001b[31m    \u001b[39m\u001b[31mreverse_tuple({(1, 2), (3, 4)}, {(2, 1), (5, 6)}) returns True\u001b[39m\n                                                      ^\n\u001b[31mSyntaxError\u001b[39m\u001b[31m:\u001b[39m invalid syntax\n"
     ]
    }
   ],
   "source": []
  },
  {
   "cell_type": "code",
   "execution_count": null,
   "id": "b7009bde",
   "metadata": {},
   "outputs": [],
   "source": []
  }
 ],
 "metadata": {
  "kernelspec": {
   "display_name": "Python 3",
   "language": "python",
   "name": "python3"
  },
  "language_info": {
   "codemirror_mode": {
    "name": "ipython",
    "version": 3
   },
   "file_extension": ".py",
   "mimetype": "text/x-python",
   "name": "python",
   "nbconvert_exporter": "python",
   "pygments_lexer": "ipython3",
   "version": "3.12.1"
  }
 },
 "nbformat": 4,
 "nbformat_minor": 5
}
