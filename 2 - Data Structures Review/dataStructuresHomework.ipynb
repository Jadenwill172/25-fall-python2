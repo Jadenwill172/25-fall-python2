{
 "cells": [
  {
   "cell_type": "code",
   "execution_count": null,
   "id": "1d12b2c3",
   "metadata": {},
   "outputs": [],
   "source": [
    "def histogram(string_list):\n",
    "    dict = {}\n",
    "    for item in string_list:\n",
    "        if item in dict:\n",
    "            dict[item] += 1\n",
    "        else:\n",
    "            dict[item]\n",
    "\n",
    "\n",
    "\n"
   ]
  },
  {
   "cell_type": "code",
   "execution_count": 2,
   "id": "678fdfa0",
   "metadata": {},
   "outputs": [
    {
     "name": "stdout",
     "output_type": "stream",
     "text": [
      "{'a': 1, 'c': 2, 'b': 1}\n"
     ]
    }
   ],
   "source": [
    "def histogram(string_list):\n",
    "    freq_dict = {}\n",
    "    for item in string_list:\n",
    "        if item in freq_dict:\n",
    "            freq_dict[item] += 1\n",
    "        else:\n",
    "            freq_dict[item] = 1\n",
    "    return freq_dict\n",
    "\n",
    "string_list = ['a', 'c', 'c', 'b']\n",
    "print(histogram(string_list))"
   ]
  },
  {
   "cell_type": "code",
   "execution_count": null,
   "id": "7a008e88",
   "metadata": {},
   "outputs": [
    {
     "name": "stdout",
     "output_type": "stream",
     "text": [
      "True\n"
     ]
    }
   ],
   "source": [
    "def reverse_tuple(tuple_set1, tuple_set2):\n",
    "    for pair in tuple_set1:\n",
    "        reversed_pair = (pair[1], pair[0])\n",
    "        if reversed_pair in tuple_set2:\n",
    "            return True\n",
    "    return False\n",
    "\n",
    "tuple_set1 = {(1, 2), (3, 4)}\n",
    "tuple_set2 = {(2, 1), (5, 6)}\n",
    "\n",
    "print(reverse_tuple(tuple_set1, tuple_set2))"
   ]
  }
 ],
 "metadata": {
  "kernelspec": {
   "display_name": "Python 3",
   "language": "python",
   "name": "python3"
  },
  "language_info": {
   "codemirror_mode": {
    "name": "ipython",
    "version": 3
   },
   "file_extension": ".py",
   "mimetype": "text/x-python",
   "name": "python",
   "nbconvert_exporter": "python",
   "pygments_lexer": "ipython3",
   "version": "3.12.1"
  }
 },
 "nbformat": 4,
 "nbformat_minor": 5
}
