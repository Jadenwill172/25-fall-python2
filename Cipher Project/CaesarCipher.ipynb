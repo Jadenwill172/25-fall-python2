{
 "cells": [
  {
   "cell_type": "code",
   "execution_count": null,
   "id": "0",
   "metadata": {},
   "outputs": [],
   "source": [
    "def caesar_encrypt(plaintext_file, ciphertext_file, shift):\n",
    "    shift = shift % 26  # Ensure shift is within 0-25\n",
    "\n",
    "    with open(plaintext_file, 'r', encoding='utf-8') as infile:\n",
    "        plaintext = infile.read()\n",
    "\n",
    "    ciphertext = ''\n",
    "    for char in plaintext:\n",
    "        if char.isalpha():\n",
    "            base = ord('A') if char.isupper() else ord('a')\n",
    "            # Shift character\n",
    "            shifted = (ord(char) - base + shift) % 26 + base\n",
    "            ciphertext += chr(shifted)\n",
    "        else:\n",
    "            ciphertext += char  # Keep non-alphabetic characters unchanged\n",
    "\n",
    "    with open(ciphertext_file, 'w', encoding='utf-8') as outfile:\n",
    "        outfile.write(ciphertext)\n",
    "\n",
    "\n",
    "def caesar_decrypt(ciphertext_file, plaintext_file, shift):\n",
    "    shift = shift % 26  # Ensure shift is within 0-25\n",
    "\n",
    "    with open(ciphertext_file, 'r', encoding='utf-8') as infile:\n",
    "        ciphertext = infile.read()\n",
    "\n",
    "    plaintext = ''\n",
    "    for char in ciphertext:\n",
    "        if char.isalpha():\n",
    "            base = ord('A') if char.isupper() else ord('a')\n",
    "            # Reverse shift character\n",
    "            shifted = (ord(char) - base - shift) % 26 + base\n",
    "            plaintext += chr(shifted)\n",
    "        else:\n",
    "            plaintext += char  # Keep non-alphabetic characters unchanged\n",
    "\n",
    "    with open(plaintext_file, 'w', encoding='utf-8') as outfile:\n",
    "        outfile.write(plaintext)"
   ]
  },
  {
   "cell_type": "code",
   "execution_count": null,
   "id": "1",
   "metadata": {},
   "outputs": [],
   "source": [
    "def rot13_encrypt(plaintext_file, ciphertext_file):\n",
    "    def rot13_char(c):\n",
    "        if c.isalpha():\n",
    "            base = ord('A') if c.isupper() else ord('a')\n",
    "            return chr((ord(c) - base + 13) % 26 + base)\n",
    "        else:\n",
    "            return c\n",
    "\n",
    "    with open(plaintext_file, 'r', encoding='utf-8') as fin:\n",
    "        plaintext = fin.read()\n",
    "\n",
    "    ciphertext = ''.join(rot13_char(c) for c in plaintext)\n",
    "\n",
    "    with open(ciphertext_file, 'w', encoding='utf-8') as fout:\n",
    "        fout.write(ciphertext)\n",
    "\n",
    "\n",
    "def rot13_decrypt(ciphertext_file, plaintext_file):\n",
    "    # ROT-13 decryption is same as encryption\n",
    "    rot13_encrypt(ciphertext_file, plaintext_file)"
   ]
  },
  {
   "cell_type": "code",
   "execution_count": null,
   "id": "2",
   "metadata": {},
   "outputs": [],
   "source": []
  }
 ],
 "metadata": {
  "kernelspec": {
   "display_name": "Python 3",
   "language": "python",
   "name": "python3"
  },
  "language_info": {
   "codemirror_mode": {
    "name": "ipython",
    "version": 3
   },
   "file_extension": ".py",
   "mimetype": "text/x-python",
   "name": "python",
   "nbconvert_exporter": "python",
   "pygments_lexer": "ipython3",
   "version": "3.12.1"
  }
 },
 "nbformat": 4,
 "nbformat_minor": 5
}
